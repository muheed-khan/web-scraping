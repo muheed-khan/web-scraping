{
 "cells": [
  {
   "cell_type": "code",
   "execution_count": 1,
   "id": "fd23bd0c",
   "metadata": {
    "_cell_guid": "b1076dfc-b9ad-4769-8c92-a6c4dae69d19",
    "_uuid": "8f2839f25d086af736a60e9eeb907d3b93b6e0e5",
    "execution": {
     "iopub.execute_input": "2024-08-20T09:48:39.023184Z",
     "iopub.status.busy": "2024-08-20T09:48:39.022701Z",
     "iopub.status.idle": "2024-08-20T09:48:58.407393Z",
     "shell.execute_reply": "2024-08-20T09:48:58.406351Z"
    },
    "papermill": {
     "duration": 19.393306,
     "end_time": "2024-08-20T09:48:58.409919",
     "exception": false,
     "start_time": "2024-08-20T09:48:39.016613",
     "status": "completed"
    },
    "tags": []
   },
   "outputs": [
    {
     "name": "stdout",
     "output_type": "stream",
     "text": [
      "Collecting scrapy\r\n",
      "  Downloading Scrapy-2.11.2-py2.py3-none-any.whl.metadata (5.3 kB)\r\n",
      "Collecting Twisted>=18.9.0 (from scrapy)\r\n",
      "  Downloading twisted-24.7.0-py3-none-any.whl.metadata (18 kB)\r\n",
      "Requirement already satisfied: cryptography>=36.0.0 in /opt/conda/lib/python3.10/site-packages (from scrapy) (41.0.7)\r\n",
      "Collecting cssselect>=0.9.1 (from scrapy)\r\n",
      "  Downloading cssselect-1.2.0-py2.py3-none-any.whl.metadata (2.2 kB)\r\n",
      "Collecting itemloaders>=1.0.1 (from scrapy)\r\n",
      "  Downloading itemloaders-1.3.1-py3-none-any.whl.metadata (3.9 kB)\r\n",
      "Collecting parsel>=1.5.0 (from scrapy)\r\n",
      "  Downloading parsel-1.9.1-py2.py3-none-any.whl.metadata (11 kB)\r\n",
      "Requirement already satisfied: pyOpenSSL>=21.0.0 in /opt/conda/lib/python3.10/site-packages (from scrapy) (23.3.0)\r\n",
      "Collecting queuelib>=1.4.2 (from scrapy)\r\n",
      "  Downloading queuelib-1.7.0-py2.py3-none-any.whl.metadata (5.7 kB)\r\n",
      "Collecting service-identity>=18.1.0 (from scrapy)\r\n",
      "  Downloading service_identity-24.1.0-py3-none-any.whl.metadata (4.8 kB)\r\n",
      "Collecting w3lib>=1.17.0 (from scrapy)\r\n",
      "  Downloading w3lib-2.2.1-py3-none-any.whl.metadata (2.1 kB)\r\n",
      "Collecting zope.interface>=5.1.0 (from scrapy)\r\n",
      "  Downloading zope.interface-7.0.1-cp310-cp310-manylinux_2_5_x86_64.manylinux1_x86_64.manylinux_2_17_x86_64.manylinux2014_x86_64.whl.metadata (43 kB)\r\n",
      "\u001b[2K     \u001b[90m━━━━━━━━━━━━━━━━━━━━━━━━━━━━━━━━━━━━━━━━\u001b[0m \u001b[32m43.2/43.2 kB\u001b[0m \u001b[31m1.6 MB/s\u001b[0m eta \u001b[36m0:00:00\u001b[0m\r\n",
      "\u001b[?25hCollecting protego>=0.1.15 (from scrapy)\r\n",
      "  Downloading Protego-0.3.1-py2.py3-none-any.whl.metadata (5.9 kB)\r\n",
      "Collecting itemadapter>=0.1.0 (from scrapy)\r\n",
      "  Downloading itemadapter-0.9.0-py3-none-any.whl.metadata (17 kB)\r\n",
      "Requirement already satisfied: setuptools in /opt/conda/lib/python3.10/site-packages (from scrapy) (69.0.3)\r\n",
      "Requirement already satisfied: packaging in /opt/conda/lib/python3.10/site-packages (from scrapy) (21.3)\r\n",
      "Collecting tldextract (from scrapy)\r\n",
      "  Downloading tldextract-5.1.2-py3-none-any.whl.metadata (11 kB)\r\n",
      "Requirement already satisfied: lxml>=4.4.1 in /opt/conda/lib/python3.10/site-packages (from scrapy) (5.2.2)\r\n",
      "Requirement already satisfied: defusedxml>=0.7.1 in /opt/conda/lib/python3.10/site-packages (from scrapy) (0.7.1)\r\n",
      "Collecting PyDispatcher>=2.0.5 (from scrapy)\r\n",
      "  Downloading PyDispatcher-2.0.7-py3-none-any.whl.metadata (2.4 kB)\r\n",
      "Requirement already satisfied: cffi>=1.12 in /opt/conda/lib/python3.10/site-packages (from cryptography>=36.0.0->scrapy) (1.16.0)\r\n",
      "Requirement already satisfied: jmespath>=0.9.5 in /opt/conda/lib/python3.10/site-packages (from itemloaders>=1.0.1->scrapy) (1.0.1)\r\n",
      "Requirement already satisfied: attrs>=19.1.0 in /opt/conda/lib/python3.10/site-packages (from service-identity>=18.1.0->scrapy) (23.2.0)\r\n",
      "Requirement already satisfied: pyasn1 in /opt/conda/lib/python3.10/site-packages (from service-identity>=18.1.0->scrapy) (0.5.1)\r\n",
      "Requirement already satisfied: pyasn1-modules in /opt/conda/lib/python3.10/site-packages (from service-identity>=18.1.0->scrapy) (0.3.0)\r\n",
      "Collecting automat>=0.8.0 (from Twisted>=18.9.0->scrapy)\r\n",
      "  Downloading Automat-24.8.1-py3-none-any.whl.metadata (8.4 kB)\r\n",
      "Collecting constantly>=15.1 (from Twisted>=18.9.0->scrapy)\r\n",
      "  Downloading constantly-23.10.4-py3-none-any.whl.metadata (1.8 kB)\r\n",
      "Collecting hyperlink>=17.1.1 (from Twisted>=18.9.0->scrapy)\r\n",
      "  Downloading hyperlink-21.0.0-py2.py3-none-any.whl.metadata (1.5 kB)\r\n",
      "Collecting incremental>=24.7.0 (from Twisted>=18.9.0->scrapy)\r\n",
      "  Downloading incremental-24.7.2-py3-none-any.whl.metadata (8.1 kB)\r\n",
      "Requirement already satisfied: typing-extensions>=4.2.0 in /opt/conda/lib/python3.10/site-packages (from Twisted>=18.9.0->scrapy) (4.9.0)\r\n",
      "Requirement already satisfied: pyparsing!=3.0.5,>=2.0.2 in /opt/conda/lib/python3.10/site-packages (from packaging->scrapy) (3.1.1)\r\n",
      "Requirement already satisfied: idna in /opt/conda/lib/python3.10/site-packages (from tldextract->scrapy) (3.6)\r\n",
      "Requirement already satisfied: requests>=2.1.0 in /opt/conda/lib/python3.10/site-packages (from tldextract->scrapy) (2.32.3)\r\n",
      "Collecting requests-file>=1.4 (from tldextract->scrapy)\r\n",
      "  Downloading requests_file-2.1.0-py2.py3-none-any.whl.metadata (1.7 kB)\r\n",
      "Requirement already satisfied: filelock>=3.0.8 in /opt/conda/lib/python3.10/site-packages (from tldextract->scrapy) (3.13.1)\r\n",
      "Requirement already satisfied: pycparser in /opt/conda/lib/python3.10/site-packages (from cffi>=1.12->cryptography>=36.0.0->scrapy) (2.21)\r\n",
      "Requirement already satisfied: tomli in /opt/conda/lib/python3.10/site-packages (from incremental>=24.7.0->Twisted>=18.9.0->scrapy) (2.0.1)\r\n",
      "Requirement already satisfied: charset-normalizer<4,>=2 in /opt/conda/lib/python3.10/site-packages (from requests>=2.1.0->tldextract->scrapy) (3.3.2)\r\n",
      "Requirement already satisfied: urllib3<3,>=1.21.1 in /opt/conda/lib/python3.10/site-packages (from requests>=2.1.0->tldextract->scrapy) (1.26.18)\r\n",
      "Requirement already satisfied: certifi>=2017.4.17 in /opt/conda/lib/python3.10/site-packages (from requests>=2.1.0->tldextract->scrapy) (2024.7.4)\r\n",
      "Downloading Scrapy-2.11.2-py2.py3-none-any.whl (290 kB)\r\n",
      "\u001b[2K   \u001b[90m━━━━━━━━━━━━━━━━━━━━━━━━━━━━━━━━━━━━━━━━\u001b[0m \u001b[32m290.1/290.1 kB\u001b[0m \u001b[31m7.6 MB/s\u001b[0m eta \u001b[36m0:00:00\u001b[0m\r\n",
      "\u001b[?25hDownloading cssselect-1.2.0-py2.py3-none-any.whl (18 kB)\r\n",
      "Downloading itemadapter-0.9.0-py3-none-any.whl (11 kB)\r\n",
      "Downloading itemloaders-1.3.1-py3-none-any.whl (12 kB)\r\n",
      "Downloading parsel-1.9.1-py2.py3-none-any.whl (17 kB)\r\n",
      "Downloading Protego-0.3.1-py2.py3-none-any.whl (8.5 kB)\r\n",
      "Downloading PyDispatcher-2.0.7-py3-none-any.whl (12 kB)\r\n",
      "Downloading queuelib-1.7.0-py2.py3-none-any.whl (13 kB)\r\n",
      "Downloading service_identity-24.1.0-py3-none-any.whl (12 kB)\r\n",
      "Downloading twisted-24.7.0-py3-none-any.whl (3.2 MB)\r\n",
      "\u001b[2K   \u001b[90m━━━━━━━━━━━━━━━━━━━━━━━━━━━━━━━━━━━━━━━━\u001b[0m \u001b[32m3.2/3.2 MB\u001b[0m \u001b[31m49.3 MB/s\u001b[0m eta \u001b[36m0:00:00\u001b[0m\r\n",
      "\u001b[?25hDownloading w3lib-2.2.1-py3-none-any.whl (21 kB)\r\n",
      "Downloading zope.interface-7.0.1-cp310-cp310-manylinux_2_5_x86_64.manylinux1_x86_64.manylinux_2_17_x86_64.manylinux2014_x86_64.whl (254 kB)\r\n",
      "\u001b[2K   \u001b[90m━━━━━━━━━━━━━━━━━━━━━━━━━━━━━━━━━━━━━━━━\u001b[0m \u001b[32m254.1/254.1 kB\u001b[0m \u001b[31m16.7 MB/s\u001b[0m eta \u001b[36m0:00:00\u001b[0m\r\n",
      "\u001b[?25hDownloading tldextract-5.1.2-py3-none-any.whl (97 kB)\r\n",
      "\u001b[2K   \u001b[90m━━━━━━━━━━━━━━━━━━━━━━━━━━━━━━━━━━━━━━━━\u001b[0m \u001b[32m97.6/97.6 kB\u001b[0m \u001b[31m6.3 MB/s\u001b[0m eta \u001b[36m0:00:00\u001b[0m\r\n",
      "\u001b[?25hDownloading Automat-24.8.1-py3-none-any.whl (42 kB)\r\n",
      "\u001b[2K   \u001b[90m━━━━━━━━━━━━━━━━━━━━━━━━━━━━━━━━━━━━━━━━\u001b[0m \u001b[32m42.6/42.6 kB\u001b[0m \u001b[31m2.9 MB/s\u001b[0m eta \u001b[36m0:00:00\u001b[0m\r\n",
      "\u001b[?25hDownloading constantly-23.10.4-py3-none-any.whl (13 kB)\r\n",
      "Downloading hyperlink-21.0.0-py2.py3-none-any.whl (74 kB)\r\n",
      "\u001b[2K   \u001b[90m━━━━━━━━━━━━━━━━━━━━━━━━━━━━━━━━━━━━━━━━\u001b[0m \u001b[32m74.6/74.6 kB\u001b[0m \u001b[31m4.7 MB/s\u001b[0m eta \u001b[36m0:00:00\u001b[0m\r\n",
      "\u001b[?25hDownloading incremental-24.7.2-py3-none-any.whl (20 kB)\r\n",
      "Downloading requests_file-2.1.0-py2.py3-none-any.whl (4.2 kB)\r\n",
      "Installing collected packages: PyDispatcher, zope.interface, w3lib, queuelib, protego, itemadapter, incremental, hyperlink, cssselect, constantly, automat, Twisted, requests-file, parsel, tldextract, service-identity, itemloaders, scrapy\r\n",
      "Successfully installed PyDispatcher-2.0.7 Twisted-24.7.0 automat-24.8.1 constantly-23.10.4 cssselect-1.2.0 hyperlink-21.0.0 incremental-24.7.2 itemadapter-0.9.0 itemloaders-1.3.1 parsel-1.9.1 protego-0.3.1 queuelib-1.7.0 requests-file-2.1.0 scrapy-2.11.2 service-identity-24.1.0 tldextract-5.1.2 w3lib-2.2.1 zope.interface-7.0.1\r\n"
     ]
    }
   ],
   "source": [
    "!pip install scrapy"
   ]
  },
  {
   "cell_type": "code",
   "execution_count": 2,
   "id": "9cc4aa6f",
   "metadata": {
    "execution": {
     "iopub.execute_input": "2024-08-20T09:48:58.426897Z",
     "iopub.status.busy": "2024-08-20T09:48:58.425975Z",
     "iopub.status.idle": "2024-08-20T09:48:58.992296Z",
     "shell.execute_reply": "2024-08-20T09:48:58.991242Z"
    },
    "papermill": {
     "duration": 0.57712,
     "end_time": "2024-08-20T09:48:58.994512",
     "exception": false,
     "start_time": "2024-08-20T09:48:58.417392",
     "status": "completed"
    },
    "tags": []
   },
   "outputs": [
    {
     "name": "stderr",
     "output_type": "stream",
     "text": [
      "/opt/conda/lib/python3.10/site-packages/scrapy/utils/_compression.py:15: ScrapyDeprecationWarning: You have brotlipy installed, and Scrapy will use it, but Scrapy support for brotlipy is deprecated and will stop working in a future version of Scrapy. brotlipy itself is deprecated, it has been superseded by brotlicffi (not currently supported by Scrapy). Please, uninstall brotlipy and install brotli instead. brotlipy has the same import name as brotli, so keeping both installed is strongly discouraged.\n",
      "  warn(\n"
     ]
    }
   ],
   "source": [
    "from scrapy import Selector"
   ]
  },
  {
   "cell_type": "code",
   "execution_count": 3,
   "id": "e45d14f1",
   "metadata": {
    "execution": {
     "iopub.execute_input": "2024-08-20T09:48:59.010559Z",
     "iopub.status.busy": "2024-08-20T09:48:59.010061Z",
     "iopub.status.idle": "2024-08-20T09:49:01.141579Z",
     "shell.execute_reply": "2024-08-20T09:49:01.140497Z"
    },
    "papermill": {
     "duration": 2.142363,
     "end_time": "2024-08-20T09:49:01.144165",
     "exception": false,
     "start_time": "2024-08-20T09:48:59.001802",
     "status": "completed"
    },
    "tags": []
   },
   "outputs": [],
   "source": [
    "import requests\n",
    "url = 'https://www.pakwheels.com/used-cars/automatic/57336'\n",
    "html = requests.get(url).content\n",
    "sel = Selector(text = html)"
   ]
  },
  {
   "cell_type": "markdown",
   "id": "7110d18f",
   "metadata": {
    "papermill": {
     "duration": 0.007071,
     "end_time": "2024-08-20T09:49:01.158582",
     "exception": false,
     "start_time": "2024-08-20T09:49:01.151511",
     "status": "completed"
    },
    "tags": []
   },
   "source": [
    "Applying both CSS Locator and XPath for extraction."
   ]
  },
  {
   "cell_type": "code",
   "execution_count": 4,
   "id": "a8671b1f",
   "metadata": {
    "execution": {
     "iopub.execute_input": "2024-08-20T09:49:01.174546Z",
     "iopub.status.busy": "2024-08-20T09:49:01.174181Z",
     "iopub.status.idle": "2024-08-20T09:49:01.188796Z",
     "shell.execute_reply": "2024-08-20T09:49:01.187815Z"
    },
    "papermill": {
     "duration": 0.02517,
     "end_time": "2024-08-20T09:49:01.190921",
     "exception": false,
     "start_time": "2024-08-20T09:49:01.165751",
     "status": "completed"
    },
    "tags": []
   },
   "outputs": [
    {
     "data": {
      "text/plain": [
       "['/used-cars/audi-a6-2016-for-sale-in-lahore-9097927',\n",
       " '/used-cars/toyota-yaris-hatchback-2021-for-sale-in-karachi-9097566',\n",
       " '/used-cars/honda-civic-2018-for-sale-in-islamabad-9032413',\n",
       " '/used-cars/toyota-passo-2019-for-sale-in-karachi-9068078',\n",
       " '/used-cars/kia-picanto-2022-for-sale-in-karachi-9067938',\n",
       " '/used-cars/toyota-vitz-2018-for-sale-in-karachi-9005096',\n",
       " '/used-cars/daihatsu-mira-2020-for-sale-in-islamabad-9085614',\n",
       " '/used-cars/pakwheels-certified/',\n",
       " '/used-cars/toyota-passo-2021-for-sale-in-karachi-8157536',\n",
       " '/used-cars/toyota-corolla-2022-for-sale-in-islamabad-9097904',\n",
       " '/used-cars/honda-civic-2017-for-sale-in-lahore-9097881',\n",
       " '/used-cars/toyota-aqua-2018-for-sale-in-karachi-8988572',\n",
       " '/used-cars/honda-civic-2019-for-sale-in-lahore-9086009',\n",
       " '/used-cars/mitsubishi-ek-wagon-2018-for-sale-in-lahore-9089938',\n",
       " '/used-cars/toyota-corolla-1991-for-sale-in-islamabad-9097922',\n",
       " '/used-cars/toyota-corolla-2019-for-sale-in-faisalabad-9097920',\n",
       " '/used-cars/suzuki-alto-2020-for-sale-in-peshawar-9054015',\n",
       " '/used-cars/honda-vezel-2015-for-sale-in-gujranwala-9097912',\n",
       " '/used-cars/toyota-corolla-2019-for-sale-in-rawalpindi-9097911',\n",
       " '/used-cars/toyota-passo-2014-for-sale-in-lahore-9097909',\n",
       " '/used-cars/honda-city-2008-for-sale-in-shuja-abad-9097799',\n",
       " '/used-cars/suzuki-swift-2018-for-sale-in-karachi-9097889',\n",
       " '/used-cars/honda-freed-2013-for-sale-in-lahore-9097905',\n",
       " '/used-cars/toyota-prius-2009-for-sale-in-sahiwal-9097903',\n",
       " '/used-cars/suzuki-cultus-2019-for-sale-in-islamabad-9097901',\n",
       " '/used-cars/toyota-passo-2014-for-sale-in-rawalpindi-9089526']"
      ]
     },
     "execution_count": 4,
     "metadata": {},
     "output_type": "execute_result"
    }
   ],
   "source": [
    "cssLocator = 'ul.list-unstyled.search-results li div.col-md-9.grid-style div a::attr(href)' \n",
    "links = sel.css(cssLocator).getall()\n",
    "links"
   ]
  },
  {
   "cell_type": "code",
   "execution_count": 5,
   "id": "6f348fe8",
   "metadata": {
    "execution": {
     "iopub.execute_input": "2024-08-20T09:49:01.207082Z",
     "iopub.status.busy": "2024-08-20T09:49:01.206708Z",
     "iopub.status.idle": "2024-08-20T09:49:01.213061Z",
     "shell.execute_reply": "2024-08-20T09:49:01.212290Z"
    },
    "papermill": {
     "duration": 0.016778,
     "end_time": "2024-08-20T09:49:01.215083",
     "exception": false,
     "start_time": "2024-08-20T09:49:01.198305",
     "status": "completed"
    },
    "tags": []
   },
   "outputs": [],
   "source": [
    "xpath = '//ul[@class=\"list-unstyled search-vehicle-info-2 fs13\"]/li[1]/text()'\n",
    "model = sel.xpath(xpath).getall()\n",
    "models = []\n",
    "for model_str in model:\n",
    "    try:\n",
    "        model_int = int(model_str)\n",
    "        models.append(model_int)\n",
    "    except ValueError:\n",
    "        models.append(None)"
   ]
  },
  {
   "cell_type": "code",
   "execution_count": 6,
   "id": "3b1cf9f7",
   "metadata": {
    "execution": {
     "iopub.execute_input": "2024-08-20T09:49:01.231130Z",
     "iopub.status.busy": "2024-08-20T09:49:01.230764Z",
     "iopub.status.idle": "2024-08-20T09:49:01.236955Z",
     "shell.execute_reply": "2024-08-20T09:49:01.236042Z"
    },
    "papermill": {
     "duration": 0.016389,
     "end_time": "2024-08-20T09:49:01.238841",
     "exception": false,
     "start_time": "2024-08-20T09:49:01.222452",
     "status": "completed"
    },
    "tags": []
   },
   "outputs": [
    {
     "data": {
      "text/plain": [
       "[2016,\n",
       " 2021,\n",
       " 2018,\n",
       " 2019,\n",
       " 2022,\n",
       " 2018,\n",
       " 2020,\n",
       " 2021,\n",
       " 2022,\n",
       " 2017,\n",
       " 2018,\n",
       " 2019,\n",
       " 2018,\n",
       " 1991,\n",
       " 2019,\n",
       " 2020,\n",
       " 2015,\n",
       " 2019,\n",
       " 2014,\n",
       " 2008,\n",
       " 2018,\n",
       " 2013,\n",
       " 2009,\n",
       " 2019,\n",
       " 2014]"
      ]
     },
     "execution_count": 6,
     "metadata": {},
     "output_type": "execute_result"
    }
   ],
   "source": [
    "models"
   ]
  },
  {
   "cell_type": "code",
   "execution_count": 7,
   "id": "0cc007d0",
   "metadata": {
    "execution": {
     "iopub.execute_input": "2024-08-20T09:49:01.255635Z",
     "iopub.status.busy": "2024-08-20T09:49:01.254651Z",
     "iopub.status.idle": "2024-08-20T09:49:01.262586Z",
     "shell.execute_reply": "2024-08-20T09:49:01.261626Z"
    },
    "papermill": {
     "duration": 0.018437,
     "end_time": "2024-08-20T09:49:01.264624",
     "exception": false,
     "start_time": "2024-08-20T09:49:01.246187",
     "status": "completed"
    },
    "tags": []
   },
   "outputs": [
    {
     "data": {
      "text/plain": [
       "[('/used-cars/audi-a6-2016-for-sale-in-lahore-9097927', 2016),\n",
       " ('/used-cars/toyota-yaris-hatchback-2021-for-sale-in-karachi-9097566', 2021),\n",
       " ('/used-cars/honda-civic-2018-for-sale-in-islamabad-9032413', 2018),\n",
       " ('/used-cars/toyota-passo-2019-for-sale-in-karachi-9068078', 2019),\n",
       " ('/used-cars/kia-picanto-2022-for-sale-in-karachi-9067938', 2022),\n",
       " ('/used-cars/toyota-vitz-2018-for-sale-in-karachi-9005096', 2018),\n",
       " ('/used-cars/daihatsu-mira-2020-for-sale-in-islamabad-9085614', 2020),\n",
       " ('/used-cars/pakwheels-certified/', 2021),\n",
       " ('/used-cars/toyota-passo-2021-for-sale-in-karachi-8157536', 2022),\n",
       " ('/used-cars/toyota-corolla-2022-for-sale-in-islamabad-9097904', 2017),\n",
       " ('/used-cars/honda-civic-2017-for-sale-in-lahore-9097881', 2018),\n",
       " ('/used-cars/toyota-aqua-2018-for-sale-in-karachi-8988572', 2019),\n",
       " ('/used-cars/honda-civic-2019-for-sale-in-lahore-9086009', 2018),\n",
       " ('/used-cars/toyota-corolla-1991-for-sale-in-islamabad-9097922', 2019),\n",
       " ('/used-cars/toyota-corolla-2019-for-sale-in-faisalabad-9097920', 2020),\n",
       " ('/used-cars/suzuki-alto-2020-for-sale-in-peshawar-9054015', 2015),\n",
       " ('/used-cars/honda-vezel-2015-for-sale-in-gujranwala-9097912', 2019),\n",
       " ('/used-cars/toyota-corolla-2019-for-sale-in-rawalpindi-9097911', 2014),\n",
       " ('/used-cars/toyota-passo-2014-for-sale-in-lahore-9097909', 2008),\n",
       " ('/used-cars/honda-city-2008-for-sale-in-shuja-abad-9097799', 2018),\n",
       " ('/used-cars/suzuki-swift-2018-for-sale-in-karachi-9097889', 2013),\n",
       " ('/used-cars/honda-freed-2013-for-sale-in-lahore-9097905', 2009),\n",
       " ('/used-cars/toyota-prius-2009-for-sale-in-sahiwal-9097903', 2019),\n",
       " ('/used-cars/suzuki-cultus-2019-for-sale-in-islamabad-9097901', 2014)]"
      ]
     },
     "execution_count": 7,
     "metadata": {},
     "output_type": "execute_result"
    }
   ],
   "source": [
    "\n",
    "filtered_links = [(link,model) for link, model in zip(links,models) if model > 2005]\n",
    "filtered_links\n"
   ]
  },
  {
   "cell_type": "code",
   "execution_count": 8,
   "id": "d431f54a",
   "metadata": {
    "execution": {
     "iopub.execute_input": "2024-08-20T09:49:01.281232Z",
     "iopub.status.busy": "2024-08-20T09:49:01.280752Z",
     "iopub.status.idle": "2024-08-20T09:49:01.288778Z",
     "shell.execute_reply": "2024-08-20T09:49:01.287880Z"
    },
    "papermill": {
     "duration": 0.018699,
     "end_time": "2024-08-20T09:49:01.290854",
     "exception": false,
     "start_time": "2024-08-20T09:49:01.272155",
     "status": "completed"
    },
    "tags": []
   },
   "outputs": [
    {
     "data": {
      "text/plain": [
       "['87,000 km',\n",
       " '30,000 km',\n",
       " '66,942 km',\n",
       " '59,000 km',\n",
       " '3,600 km',\n",
       " '78,000 km',\n",
       " '16,347 km',\n",
       " '12,000 km',\n",
       " '27,000 km',\n",
       " '59,000 km',\n",
       " '104,655 km',\n",
       " '81,000 km',\n",
       " '28,000 km',\n",
       " '90,000 km',\n",
       " '125 km',\n",
       " '57,000 km',\n",
       " '70,000 km',\n",
       " '73,000 km',\n",
       " '66,000 km',\n",
       " '131,000 km',\n",
       " '74,000 km',\n",
       " '185,000 km',\n",
       " '80,000 km',\n",
       " '57,000 km',\n",
       " '90,000 km']"
      ]
     },
     "execution_count": 8,
     "metadata": {},
     "output_type": "execute_result"
    }
   ],
   "source": [
    "xpath = '//ul[contains(@class, \"list-unstyled\") and contains(@class, \"search-vehicle-info-2\") and contains(@class, \"fs13\")]/li[2]/text()'\n",
    "mileage = sel.xpath(xpath).getall()\n",
    "mileage"
   ]
  },
  {
   "cell_type": "code",
   "execution_count": 9,
   "id": "fdd8dbbc",
   "metadata": {
    "execution": {
     "iopub.execute_input": "2024-08-20T09:49:01.307549Z",
     "iopub.status.busy": "2024-08-20T09:49:01.307214Z",
     "iopub.status.idle": "2024-08-20T09:49:01.312356Z",
     "shell.execute_reply": "2024-08-20T09:49:01.311370Z"
    },
    "papermill": {
     "duration": 0.015853,
     "end_time": "2024-08-20T09:49:01.314417",
     "exception": false,
     "start_time": "2024-08-20T09:49:01.298564",
     "status": "completed"
    },
    "tags": []
   },
   "outputs": [],
   "source": [
    "int_mileage = []\n",
    "for mileage_str in mileage:\n",
    "    try :\n",
    "        mileage_str = mileage_str.replace(',','').replace('km','')\n",
    "        int_mileage.append(int(mileage_str))\n",
    "    except e:\n",
    "        models.append(0)"
   ]
  },
  {
   "cell_type": "code",
   "execution_count": 10,
   "id": "c7d455a7",
   "metadata": {
    "execution": {
     "iopub.execute_input": "2024-08-20T09:49:01.331624Z",
     "iopub.status.busy": "2024-08-20T09:49:01.330913Z",
     "iopub.status.idle": "2024-08-20T09:49:01.337239Z",
     "shell.execute_reply": "2024-08-20T09:49:01.336281Z"
    },
    "papermill": {
     "duration": 0.017178,
     "end_time": "2024-08-20T09:49:01.339374",
     "exception": false,
     "start_time": "2024-08-20T09:49:01.322196",
     "status": "completed"
    },
    "tags": []
   },
   "outputs": [
    {
     "data": {
      "text/plain": [
       "[87000,\n",
       " 30000,\n",
       " 66942,\n",
       " 59000,\n",
       " 3600,\n",
       " 78000,\n",
       " 16347,\n",
       " 12000,\n",
       " 27000,\n",
       " 59000,\n",
       " 104655,\n",
       " 81000,\n",
       " 28000,\n",
       " 90000,\n",
       " 125,\n",
       " 57000,\n",
       " 70000,\n",
       " 73000,\n",
       " 66000,\n",
       " 131000,\n",
       " 74000,\n",
       " 185000,\n",
       " 80000,\n",
       " 57000,\n",
       " 90000]"
      ]
     },
     "execution_count": 10,
     "metadata": {},
     "output_type": "execute_result"
    }
   ],
   "source": [
    "int_mileage"
   ]
  },
  {
   "cell_type": "code",
   "execution_count": 11,
   "id": "9e18b19e",
   "metadata": {
    "execution": {
     "iopub.execute_input": "2024-08-20T09:49:01.357953Z",
     "iopub.status.busy": "2024-08-20T09:49:01.357591Z",
     "iopub.status.idle": "2024-08-20T09:49:01.362118Z",
     "shell.execute_reply": "2024-08-20T09:49:01.361156Z"
    },
    "papermill": {
     "duration": 0.016992,
     "end_time": "2024-08-20T09:49:01.364175",
     "exception": false,
     "start_time": "2024-08-20T09:49:01.347183",
     "status": "completed"
    },
    "tags": []
   },
   "outputs": [],
   "source": [
    "def format_mileage(mileage):\n",
    "    return f\"{mileage} km\" "
   ]
  },
  {
   "cell_type": "code",
   "execution_count": 12,
   "id": "a2df58f8",
   "metadata": {
    "execution": {
     "iopub.execute_input": "2024-08-20T09:49:01.381663Z",
     "iopub.status.busy": "2024-08-20T09:49:01.380805Z",
     "iopub.status.idle": "2024-08-20T09:49:01.385997Z",
     "shell.execute_reply": "2024-08-20T09:49:01.385109Z"
    },
    "papermill": {
     "duration": 0.016131,
     "end_time": "2024-08-20T09:49:01.388079",
     "exception": false,
     "start_time": "2024-08-20T09:49:01.371948",
     "status": "completed"
    },
    "tags": []
   },
   "outputs": [],
   "source": [
    "further_filtered_links = [\n",
    "    (link, model, format_mileage(int_mileage[i])) \n",
    "    for i, (link, model) in enumerate(zip(links, models)) \n",
    "    if model > 2005 and int_mileage[i] > 10000 and int_mileage[i] < 100000 ]"
   ]
  },
  {
   "cell_type": "code",
   "execution_count": 13,
   "id": "3dda4148",
   "metadata": {
    "execution": {
     "iopub.execute_input": "2024-08-20T09:49:01.405575Z",
     "iopub.status.busy": "2024-08-20T09:49:01.404743Z",
     "iopub.status.idle": "2024-08-20T09:49:01.412066Z",
     "shell.execute_reply": "2024-08-20T09:49:01.411151Z"
    },
    "papermill": {
     "duration": 0.018411,
     "end_time": "2024-08-20T09:49:01.414223",
     "exception": false,
     "start_time": "2024-08-20T09:49:01.395812",
     "status": "completed"
    },
    "tags": []
   },
   "outputs": [
    {
     "data": {
      "text/plain": [
       "[('/used-cars/audi-a6-2016-for-sale-in-lahore-9097927', 2016, '87000 km'),\n",
       " ('/used-cars/toyota-yaris-hatchback-2021-for-sale-in-karachi-9097566',\n",
       "  2021,\n",
       "  '30000 km'),\n",
       " ('/used-cars/honda-civic-2018-for-sale-in-islamabad-9032413',\n",
       "  2018,\n",
       "  '66942 km'),\n",
       " ('/used-cars/toyota-passo-2019-for-sale-in-karachi-9068078',\n",
       "  2019,\n",
       "  '59000 km'),\n",
       " ('/used-cars/toyota-vitz-2018-for-sale-in-karachi-9005096', 2018, '78000 km'),\n",
       " ('/used-cars/daihatsu-mira-2020-for-sale-in-islamabad-9085614',\n",
       "  2020,\n",
       "  '16347 km'),\n",
       " ('/used-cars/pakwheels-certified/', 2021, '12000 km'),\n",
       " ('/used-cars/toyota-passo-2021-for-sale-in-karachi-8157536',\n",
       "  2022,\n",
       "  '27000 km'),\n",
       " ('/used-cars/toyota-corolla-2022-for-sale-in-islamabad-9097904',\n",
       "  2017,\n",
       "  '59000 km'),\n",
       " ('/used-cars/toyota-aqua-2018-for-sale-in-karachi-8988572', 2019, '81000 km'),\n",
       " ('/used-cars/honda-civic-2019-for-sale-in-lahore-9086009', 2018, '28000 km'),\n",
       " ('/used-cars/toyota-corolla-2019-for-sale-in-faisalabad-9097920',\n",
       "  2020,\n",
       "  '57000 km'),\n",
       " ('/used-cars/suzuki-alto-2020-for-sale-in-peshawar-9054015',\n",
       "  2015,\n",
       "  '70000 km'),\n",
       " ('/used-cars/honda-vezel-2015-for-sale-in-gujranwala-9097912',\n",
       "  2019,\n",
       "  '73000 km'),\n",
       " ('/used-cars/toyota-corolla-2019-for-sale-in-rawalpindi-9097911',\n",
       "  2014,\n",
       "  '66000 km'),\n",
       " ('/used-cars/honda-city-2008-for-sale-in-shuja-abad-9097799',\n",
       "  2018,\n",
       "  '74000 km'),\n",
       " ('/used-cars/honda-freed-2013-for-sale-in-lahore-9097905', 2009, '80000 km'),\n",
       " ('/used-cars/toyota-prius-2009-for-sale-in-sahiwal-9097903',\n",
       "  2019,\n",
       "  '57000 km'),\n",
       " ('/used-cars/suzuki-cultus-2019-for-sale-in-islamabad-9097901',\n",
       "  2014,\n",
       "  '90000 km')]"
      ]
     },
     "execution_count": 13,
     "metadata": {},
     "output_type": "execute_result"
    }
   ],
   "source": [
    "further_filtered_links"
   ]
  },
  {
   "cell_type": "code",
   "execution_count": 14,
   "id": "c362f9a3",
   "metadata": {
    "execution": {
     "iopub.execute_input": "2024-08-20T09:49:01.432808Z",
     "iopub.status.busy": "2024-08-20T09:49:01.431946Z",
     "iopub.status.idle": "2024-08-20T09:49:02.085007Z",
     "shell.execute_reply": "2024-08-20T09:49:02.084012Z"
    },
    "papermill": {
     "duration": 0.664306,
     "end_time": "2024-08-20T09:49:02.087294",
     "exception": false,
     "start_time": "2024-08-20T09:49:01.422988",
     "status": "completed"
    },
    "tags": []
   },
   "outputs": [
    {
     "data": {
      "text/html": [
       "<div>\n",
       "<style scoped>\n",
       "    .dataframe tbody tr th:only-of-type {\n",
       "        vertical-align: middle;\n",
       "    }\n",
       "\n",
       "    .dataframe tbody tr th {\n",
       "        vertical-align: top;\n",
       "    }\n",
       "\n",
       "    .dataframe thead th {\n",
       "        text-align: right;\n",
       "    }\n",
       "</style>\n",
       "<table border=\"1\" class=\"dataframe\">\n",
       "  <thead>\n",
       "    <tr style=\"text-align: right;\">\n",
       "      <th></th>\n",
       "      <th>Links</th>\n",
       "      <th>Model Year</th>\n",
       "      <th>Mileage</th>\n",
       "    </tr>\n",
       "  </thead>\n",
       "  <tbody>\n",
       "    <tr>\n",
       "      <th>0</th>\n",
       "      <td>/used-cars/audi-a6-2016-for-sale-in-lahore-909...</td>\n",
       "      <td>2016</td>\n",
       "      <td>87000 km</td>\n",
       "    </tr>\n",
       "    <tr>\n",
       "      <th>1</th>\n",
       "      <td>/used-cars/toyota-yaris-hatchback-2021-for-sal...</td>\n",
       "      <td>2021</td>\n",
       "      <td>30000 km</td>\n",
       "    </tr>\n",
       "    <tr>\n",
       "      <th>2</th>\n",
       "      <td>/used-cars/honda-civic-2018-for-sale-in-islama...</td>\n",
       "      <td>2018</td>\n",
       "      <td>66942 km</td>\n",
       "    </tr>\n",
       "    <tr>\n",
       "      <th>3</th>\n",
       "      <td>/used-cars/toyota-passo-2019-for-sale-in-karac...</td>\n",
       "      <td>2019</td>\n",
       "      <td>59000 km</td>\n",
       "    </tr>\n",
       "    <tr>\n",
       "      <th>4</th>\n",
       "      <td>/used-cars/toyota-vitz-2018-for-sale-in-karach...</td>\n",
       "      <td>2018</td>\n",
       "      <td>78000 km</td>\n",
       "    </tr>\n",
       "    <tr>\n",
       "      <th>5</th>\n",
       "      <td>/used-cars/daihatsu-mira-2020-for-sale-in-isla...</td>\n",
       "      <td>2020</td>\n",
       "      <td>16347 km</td>\n",
       "    </tr>\n",
       "    <tr>\n",
       "      <th>6</th>\n",
       "      <td>/used-cars/pakwheels-certified/</td>\n",
       "      <td>2021</td>\n",
       "      <td>12000 km</td>\n",
       "    </tr>\n",
       "    <tr>\n",
       "      <th>7</th>\n",
       "      <td>/used-cars/toyota-passo-2021-for-sale-in-karac...</td>\n",
       "      <td>2022</td>\n",
       "      <td>27000 km</td>\n",
       "    </tr>\n",
       "    <tr>\n",
       "      <th>8</th>\n",
       "      <td>/used-cars/toyota-corolla-2022-for-sale-in-isl...</td>\n",
       "      <td>2017</td>\n",
       "      <td>59000 km</td>\n",
       "    </tr>\n",
       "    <tr>\n",
       "      <th>9</th>\n",
       "      <td>/used-cars/toyota-aqua-2018-for-sale-in-karach...</td>\n",
       "      <td>2019</td>\n",
       "      <td>81000 km</td>\n",
       "    </tr>\n",
       "    <tr>\n",
       "      <th>10</th>\n",
       "      <td>/used-cars/honda-civic-2019-for-sale-in-lahore...</td>\n",
       "      <td>2018</td>\n",
       "      <td>28000 km</td>\n",
       "    </tr>\n",
       "    <tr>\n",
       "      <th>11</th>\n",
       "      <td>/used-cars/toyota-corolla-2019-for-sale-in-fai...</td>\n",
       "      <td>2020</td>\n",
       "      <td>57000 km</td>\n",
       "    </tr>\n",
       "    <tr>\n",
       "      <th>12</th>\n",
       "      <td>/used-cars/suzuki-alto-2020-for-sale-in-peshaw...</td>\n",
       "      <td>2015</td>\n",
       "      <td>70000 km</td>\n",
       "    </tr>\n",
       "    <tr>\n",
       "      <th>13</th>\n",
       "      <td>/used-cars/honda-vezel-2015-for-sale-in-gujran...</td>\n",
       "      <td>2019</td>\n",
       "      <td>73000 km</td>\n",
       "    </tr>\n",
       "    <tr>\n",
       "      <th>14</th>\n",
       "      <td>/used-cars/toyota-corolla-2019-for-sale-in-raw...</td>\n",
       "      <td>2014</td>\n",
       "      <td>66000 km</td>\n",
       "    </tr>\n",
       "    <tr>\n",
       "      <th>15</th>\n",
       "      <td>/used-cars/honda-city-2008-for-sale-in-shuja-a...</td>\n",
       "      <td>2018</td>\n",
       "      <td>74000 km</td>\n",
       "    </tr>\n",
       "    <tr>\n",
       "      <th>16</th>\n",
       "      <td>/used-cars/honda-freed-2013-for-sale-in-lahore...</td>\n",
       "      <td>2009</td>\n",
       "      <td>80000 km</td>\n",
       "    </tr>\n",
       "    <tr>\n",
       "      <th>17</th>\n",
       "      <td>/used-cars/toyota-prius-2009-for-sale-in-sahiw...</td>\n",
       "      <td>2019</td>\n",
       "      <td>57000 km</td>\n",
       "    </tr>\n",
       "    <tr>\n",
       "      <th>18</th>\n",
       "      <td>/used-cars/suzuki-cultus-2019-for-sale-in-isla...</td>\n",
       "      <td>2014</td>\n",
       "      <td>90000 km</td>\n",
       "    </tr>\n",
       "  </tbody>\n",
       "</table>\n",
       "</div>"
      ],
      "text/plain": [
       "                                                Links  Model Year   Mileage\n",
       "0   /used-cars/audi-a6-2016-for-sale-in-lahore-909...        2016  87000 km\n",
       "1   /used-cars/toyota-yaris-hatchback-2021-for-sal...        2021  30000 km\n",
       "2   /used-cars/honda-civic-2018-for-sale-in-islama...        2018  66942 km\n",
       "3   /used-cars/toyota-passo-2019-for-sale-in-karac...        2019  59000 km\n",
       "4   /used-cars/toyota-vitz-2018-for-sale-in-karach...        2018  78000 km\n",
       "5   /used-cars/daihatsu-mira-2020-for-sale-in-isla...        2020  16347 km\n",
       "6                     /used-cars/pakwheels-certified/        2021  12000 km\n",
       "7   /used-cars/toyota-passo-2021-for-sale-in-karac...        2022  27000 km\n",
       "8   /used-cars/toyota-corolla-2022-for-sale-in-isl...        2017  59000 km\n",
       "9   /used-cars/toyota-aqua-2018-for-sale-in-karach...        2019  81000 km\n",
       "10  /used-cars/honda-civic-2019-for-sale-in-lahore...        2018  28000 km\n",
       "11  /used-cars/toyota-corolla-2019-for-sale-in-fai...        2020  57000 km\n",
       "12  /used-cars/suzuki-alto-2020-for-sale-in-peshaw...        2015  70000 km\n",
       "13  /used-cars/honda-vezel-2015-for-sale-in-gujran...        2019  73000 km\n",
       "14  /used-cars/toyota-corolla-2019-for-sale-in-raw...        2014  66000 km\n",
       "15  /used-cars/honda-city-2008-for-sale-in-shuja-a...        2018  74000 km\n",
       "16  /used-cars/honda-freed-2013-for-sale-in-lahore...        2009  80000 km\n",
       "17  /used-cars/toyota-prius-2009-for-sale-in-sahiw...        2019  57000 km\n",
       "18  /used-cars/suzuki-cultus-2019-for-sale-in-isla...        2014  90000 km"
      ]
     },
     "execution_count": 14,
     "metadata": {},
     "output_type": "execute_result"
    }
   ],
   "source": [
    "import pandas as pd\n",
    "df = pd.DataFrame(further_filtered_links, columns=['Links','Model Year','Mileage'])\n",
    "df"
   ]
  }
 ],
 "metadata": {
  "kaggle": {
   "accelerator": "none",
   "dataSources": [],
   "dockerImageVersionId": 30746,
   "isGpuEnabled": false,
   "isInternetEnabled": true,
   "language": "python",
   "sourceType": "notebook"
  },
  "kernelspec": {
   "display_name": "Python 3",
   "language": "python",
   "name": "python3"
  },
  "language_info": {
   "codemirror_mode": {
    "name": "ipython",
    "version": 3
   },
   "file_extension": ".py",
   "mimetype": "text/x-python",
   "name": "python",
   "nbconvert_exporter": "python",
   "pygments_lexer": "ipython3",
   "version": "3.10.13"
  },
  "papermill": {
   "default_parameters": {},
   "duration": 26.060601,
   "end_time": "2024-08-20T09:49:02.614676",
   "environment_variables": {},
   "exception": null,
   "input_path": "__notebook__.ipynb",
   "output_path": "__notebook__.ipynb",
   "parameters": {},
   "start_time": "2024-08-20T09:48:36.554075",
   "version": "2.5.0"
  }
 },
 "nbformat": 4,
 "nbformat_minor": 5
}
